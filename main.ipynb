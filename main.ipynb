{
 "cells": [
  {
   "cell_type": "markdown",
   "metadata": {},
   "source": [
    "## Import pandas and read files "
   ]
  },
  {
   "cell_type": "code",
   "execution_count": null,
   "metadata": {},
   "outputs": [],
   "source": [
    "import pandas as pd \n",
    "pd.set_option(\"display.max_rows\", 6)\n",
    "\n",
    "# read the csv files and make them DataFrames\n",
    "taylorData = pd.read_csv(\"Datasets/taylor_swift_spotify.csv\")\n",
    "spotifyData = pd.read_csv(\"Datasets/spotify-tracks-dataset.csv\") "
   ]
  },
  {
   "cell_type": "markdown",
   "metadata": {},
   "source": [
    "Since Taylor Swift often releases the same titled tracks under different albums. We will get rid of all duplicates to start with a cleaner dataset. "
   ]
  },
  {
   "cell_type": "code",
   "execution_count": null,
   "metadata": {},
   "outputs": [],
   "source": [
    "# drop any duplicate tracks \n",
    "# (Taylor sometimes has the same tracks in different albums) \n",
    "taylorData = taylorData.drop_duplicates(subset = [\"name\"], keep=\"last\")\n",
    "taylorData = taylorData.reset_index(drop=True)"
   ]
  },
  {
   "cell_type": "markdown",
   "metadata": {},
   "source": [
    "## Find Spotify Track Data \n",
    "To input your desired song, use the spotify track link. To also choose the number of recommendations you want, declare that variable. "
   ]
  },
  {
   "cell_type": "markdown",
   "metadata": {},
   "source": [
    "### Link and Number of Recommendations"
   ]
  },
  {
   "cell_type": "code",
   "execution_count": null,
   "metadata": {},
   "outputs": [],
   "source": [
    "# replace this spotify link\n",
    "spotifyLink = \"https://open.spotify.com/track/3hUxzQpSfdDqwM3ZTFQY0K?si=0a4b2162f6f54e95\"\n",
    "\n",
    "numberOfRecs = 3"
   ]
  },
  {
   "cell_type": "markdown",
   "metadata": {},
   "source": [
    "The link will now be used to find the track's id, as well as where the track is located within the spotify database. "
   ]
  },
  {
   "cell_type": "code",
   "execution_count": null,
   "metadata": {},
   "outputs": [],
   "source": [
    "def getTrackId(link): \n",
    "    # uses a spotify link to access the spotify id of a track \n",
    "    arr = link.split(\"/\") \n",
    "    id = arr[len(arr)-1] # get the last section of the url \n",
    "    arr = id.split(\"?\") # the id goes up til the question mark\n",
    "    id = arr[0]\n",
    "    return id\n",
    "\n",
    "def findSong(link, dataset=spotifyData): \n",
    "    # returns a dataframe with the desired song title\n",
    "    id = getTrackId(link) # get the id\n",
    "    song = dataset.loc[dataset[\"track_id\"] == id]\n",
    "    return song.reset_index(drop=True)\n",
    "\n",
    "# find the song's data\n",
    "song = findSong(spotifyLink)\n",
    "print(song.to_string())"
   ]
  },
  {
   "cell_type": "markdown",
   "metadata": {},
   "source": [
    "## Get data from track \n",
    "Assuming the track has been found, a dictionary of all the categories with number values will be created. These categories include: \n",
    "- danceability\n",
    "- energy\n",
    "- loudness \n",
    "- speechiness \n",
    "- acousticness\n",
    "- instrumentalness \n",
    "- valence\n",
    "- liveness \n",
    "- tempo "
   ]
  },
  {
   "cell_type": "code",
   "execution_count": null,
   "metadata": {},
   "outputs": [],
   "source": [
    "# These are the attributes that will be used in recommending a song\n",
    "categories = {\"danceability\", \n",
    "              \"energy\", \n",
    "              \"loudness\", \n",
    "              \"speechiness\", \n",
    "              \"acousticness\", \n",
    "              \"instrumentalness\", \n",
    "              \"valence\",\n",
    "              \"liveness\",\n",
    "              \"tempo\"}\n",
    "\n",
    "def buildDict(df, categories): \n",
    "    # builds a dictionary with all the given categories \n",
    "    if (len(df) < 1): \n",
    "        # if the dataframe is empty\n",
    "        return {} \n",
    "    else: \n",
    "        dict = {} \n",
    "        row = df.index.values.tolist()[0] # only look at the first row\n",
    "        for cat in categories: \n",
    "            dict.update({cat : df[cat][row]})\n",
    "        return dict\n",
    "\n",
    "dict = buildDict(song, categories)\n",
    "print(dict)"
   ]
  },
  {
   "cell_type": "markdown",
   "metadata": {},
   "source": [
    "## Generating song similarity "
   ]
  },
  {
   "cell_type": "markdown",
   "metadata": {},
   "source": [
    "To make a recommendation, we must find songs that are similar to the chosen track. Therefore, we will look through the Taylor Swift discography dataset and find out how it compares to the inputted track. \n",
    "\n",
    "The similarity between tracks in this project will be defined by the mean percent error between the user's track and a given Taylor Swift song. This will be represented by the \"match.\" The lower the match sum, the more similar the two tracks are. "
   ]
  },
  {
   "cell_type": "code",
   "execution_count": null,
   "metadata": {},
   "outputs": [],
   "source": [
    "# calculating the average percent difference between the inputted song and TS songs\n",
    "def calculateAvgDiff(dict, row):\n",
    "    sum = 0\n",
    "    for key in dict.keys(): \n",
    "        if (row[key] == 0):\n",
    "            diff = 1 # avoiding division by zero\n",
    "        else:  \n",
    "            diff = (dict[key] - row[key])/row[key] # percent difference\n",
    "            diff = abs(diff)\n",
    "        sum += diff\n",
    "    return sum/len(dict)\n",
    "taylorDataMatched = taylorData.copy()\n",
    "\n",
    "# create a column with the \"match\":\n",
    "# a sum of all the distances between the inputted song's attributes and Taylor's songs\n",
    "taylorDataMatched[\"match\"] = taylorDataMatched.apply(lambda row: calculateAvgDiff(dict, row), axis=1) "
   ]
  },
  {
   "cell_type": "markdown",
   "metadata": {},
   "source": [
    "## Sorting and cleaning \n",
    "To find the top \"matched\" Taylor Swift songs, we will sort the dataset in ascending order based on the match sum. "
   ]
  },
  {
   "cell_type": "code",
   "execution_count": null,
   "metadata": {},
   "outputs": [],
   "source": [
    "# sort the data based on the match sum \n",
    "taylorDataMatched = taylorDataMatched.sort_values(\"match\")\n",
    "taylorDataMatched = taylorDataMatched.reset_index(drop=True)"
   ]
  },
  {
   "cell_type": "markdown",
   "metadata": {},
   "source": [
    "If the user inputs a Taylor Swift song, it wouldn't be interesting if the program recommended that very same song. Therefore, we get rid of the suggestion if they're the same. "
   ]
  },
  {
   "cell_type": "code",
   "execution_count": null,
   "metadata": {},
   "outputs": [],
   "source": [
    "firstTSRec = taylorDataMatched[\"name\"][0]\n",
    "songTitle = song[\"track_name\"][0] # assuming the chosen track exists in the spotify dataset\n",
    "\n",
    "# if the titles are the same \n",
    "if (firstTSRec == songTitle): \n",
    "    taylorDataMatched = taylorDataMatched.iloc[1:]\n",
    "\n",
    "# fix indexing\n",
    "taylorDataMatched = taylorDataMatched.reset_index(drop=True)\n",
    "taylorDataMatched.head()"
   ]
  },
  {
   "cell_type": "markdown",
   "metadata": {},
   "source": [
    "## Final Results\n",
    "The final recommendations based on your inputted song: "
   ]
  },
  {
   "cell_type": "code",
   "execution_count": null,
   "metadata": {},
   "outputs": [],
   "source": [
    "finalData = taylorDataMatched.head(numberOfRecs) \n",
    "finalData = finalData.filter(['name', 'album'])\n",
    "finalData"
   ]
  }
 ],
 "metadata": {
  "kernelspec": {
   "display_name": "base",
   "language": "python",
   "name": "python3"
  },
  "language_info": {
   "codemirror_mode": {
    "name": "ipython",
    "version": 3
   },
   "file_extension": ".py",
   "mimetype": "text/x-python",
   "name": "python",
   "nbconvert_exporter": "python",
   "pygments_lexer": "ipython3",
   "version": "3.12.7"
  }
 },
 "nbformat": 4,
 "nbformat_minor": 2
}
